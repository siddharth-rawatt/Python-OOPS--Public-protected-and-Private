{
 "cells": [
  {
   "cell_type": "markdown",
   "id": "5946160a",
   "metadata": {},
   "source": [
    "## Python OOPS- Public, protected and Private"
   ]
  },
  {
   "cell_type": "code",
   "execution_count": 22,
   "id": "c3ec645c",
   "metadata": {},
   "outputs": [],
   "source": [
    "# Here all the class variable and public\n",
    "class Car:\n",
    "    def __init__(self,windows, doors, enginetype):\n",
    "        self.windows = windows # these are my public variables\n",
    "        self.doors = doors # i.e we can use this variables anywhere\n",
    "        self.enginetype = enginetype# where class in defined"
   ]
  },
  {
   "cell_type": "code",
   "execution_count": 23,
   "id": "b8293ec3",
   "metadata": {},
   "outputs": [],
   "source": [
    "audi = Car(4,5,'Petrol')"
   ]
  },
  {
   "cell_type": "code",
   "execution_count": 24,
   "id": "2a45a82d",
   "metadata": {},
   "outputs": [
    {
     "data": {
      "text/plain": [
       "['__class__',\n",
       " '__delattr__',\n",
       " '__dict__',\n",
       " '__dir__',\n",
       " '__doc__',\n",
       " '__eq__',\n",
       " '__format__',\n",
       " '__ge__',\n",
       " '__getattribute__',\n",
       " '__gt__',\n",
       " '__hash__',\n",
       " '__init__',\n",
       " '__init_subclass__',\n",
       " '__le__',\n",
       " '__lt__',\n",
       " '__module__',\n",
       " '__ne__',\n",
       " '__new__',\n",
       " '__reduce__',\n",
       " '__reduce_ex__',\n",
       " '__repr__',\n",
       " '__setattr__',\n",
       " '__sizeof__',\n",
       " '__str__',\n",
       " '__subclasshook__',\n",
       " '__weakref__',\n",
       " 'doors',\n",
       " 'enginetype',\n",
       " 'windows']"
      ]
     },
     "execution_count": 24,
     "metadata": {},
     "output_type": "execute_result"
    }
   ],
   "source": [
    "dir(audi)"
   ]
  },
  {
   "cell_type": "code",
   "execution_count": 26,
   "id": "cc683ec9",
   "metadata": {},
   "outputs": [],
   "source": [
    "## Since it was a public class, so we can access this\n",
    "audi.windows=6"
   ]
  },
  {
   "cell_type": "code",
   "execution_count": 27,
   "id": "63aaa76f",
   "metadata": {},
   "outputs": [
    {
     "data": {
      "text/plain": [
       "6"
      ]
     },
     "execution_count": 27,
     "metadata": {},
     "output_type": "execute_result"
    }
   ],
   "source": [
    "## Since it was a public class, so we can edit this\n",
    "audi.windows"
   ]
  },
  {
   "cell_type": "code",
   "execution_count": 33,
   "id": "904133eb",
   "metadata": {},
   "outputs": [],
   "source": [
    "# Here all the class variable and protected\n",
    "# In order to make my variables protected all i have to do is \n",
    "# make the variables name start with '_'\n",
    "\n",
    "class Car:\n",
    "    def __init__(self,windows, doors, enginetype):\n",
    "        self._windows = windows \n",
    "        self._doors = doors \n",
    "        self._enginetype = enginetype"
   ]
  },
  {
   "cell_type": "code",
   "execution_count": 34,
   "id": "36ada0b8",
   "metadata": {},
   "outputs": [],
   "source": [
    "audi = Car(4,4,'Petrol')"
   ]
  },
  {
   "cell_type": "code",
   "execution_count": 35,
   "id": "68a73acd",
   "metadata": {},
   "outputs": [
    {
     "data": {
      "text/plain": [
       "['__class__',\n",
       " '__delattr__',\n",
       " '__dict__',\n",
       " '__dir__',\n",
       " '__doc__',\n",
       " '__eq__',\n",
       " '__format__',\n",
       " '__ge__',\n",
       " '__getattribute__',\n",
       " '__gt__',\n",
       " '__hash__',\n",
       " '__init__',\n",
       " '__init_subclass__',\n",
       " '__le__',\n",
       " '__lt__',\n",
       " '__module__',\n",
       " '__ne__',\n",
       " '__new__',\n",
       " '__reduce__',\n",
       " '__reduce_ex__',\n",
       " '__repr__',\n",
       " '__setattr__',\n",
       " '__sizeof__',\n",
       " '__str__',\n",
       " '__subclasshook__',\n",
       " '__weakref__',\n",
       " '_doors',\n",
       " '_enginetype',\n",
       " '_windows']"
      ]
     },
     "execution_count": 35,
     "metadata": {},
     "output_type": "execute_result"
    }
   ],
   "source": [
    "dir(audi)"
   ]
  },
  {
   "cell_type": "code",
   "execution_count": 36,
   "id": "4c257a89",
   "metadata": {},
   "outputs": [
    {
     "ename": "AttributeError",
     "evalue": "'Car' object has no attribute 'windows'",
     "output_type": "error",
     "traceback": [
      "\u001b[0;31m---------------------------------------------------------------------------\u001b[0m",
      "\u001b[0;31mAttributeError\u001b[0m                            Traceback (most recent call last)",
      "\u001b[0;32m<ipython-input-36-7bb2183802e9>\u001b[0m in \u001b[0;36m<module>\u001b[0;34m\u001b[0m\n\u001b[1;32m      1\u001b[0m \u001b[0;31m## Since it was a protected class, so we can not access this\u001b[0m\u001b[0;34m\u001b[0m\u001b[0;34m\u001b[0m\u001b[0;34m\u001b[0m\u001b[0m\n\u001b[0;32m----> 2\u001b[0;31m \u001b[0maudi\u001b[0m\u001b[0;34m.\u001b[0m\u001b[0mwindows\u001b[0m\u001b[0;34m\u001b[0m\u001b[0;34m\u001b[0m\u001b[0m\n\u001b[0m",
      "\u001b[0;31mAttributeError\u001b[0m: 'Car' object has no attribute 'windows'"
     ]
    }
   ],
   "source": [
    "## Since it was a protected class, so we can not access this\n",
    "audi.windows"
   ]
  },
  {
   "cell_type": "code",
   "execution_count": 37,
   "id": "7e73078d",
   "metadata": {},
   "outputs": [],
   "source": [
    "##But lets create a sub class\n",
    "class Truck(Car):\n",
    "    def __init__(self,windows, doors, enginetype, horsepower):\n",
    "        super().__init__(windows,doors,enginetype)\n",
    "        self.horsepower = horsepower"
   ]
  },
  {
   "cell_type": "code",
   "execution_count": 38,
   "id": "1235f755",
   "metadata": {},
   "outputs": [],
   "source": [
    "truck = Truck(4,4,'Diesel',4000)"
   ]
  },
  {
   "cell_type": "code",
   "execution_count": 39,
   "id": "cdca8d21",
   "metadata": {},
   "outputs": [
    {
     "data": {
      "text/plain": [
       "['__class__',\n",
       " '__delattr__',\n",
       " '__dict__',\n",
       " '__dir__',\n",
       " '__doc__',\n",
       " '__eq__',\n",
       " '__format__',\n",
       " '__ge__',\n",
       " '__getattribute__',\n",
       " '__gt__',\n",
       " '__hash__',\n",
       " '__init__',\n",
       " '__init_subclass__',\n",
       " '__le__',\n",
       " '__lt__',\n",
       " '__module__',\n",
       " '__ne__',\n",
       " '__new__',\n",
       " '__reduce__',\n",
       " '__reduce_ex__',\n",
       " '__repr__',\n",
       " '__setattr__',\n",
       " '__sizeof__',\n",
       " '__str__',\n",
       " '__subclasshook__',\n",
       " '__weakref__',\n",
       " '_doors',\n",
       " '_enginetype',\n",
       " '_windows',\n",
       " 'horsepower']"
      ]
     },
     "execution_count": 39,
     "metadata": {},
     "output_type": "execute_result"
    }
   ],
   "source": [
    "dir(truck)"
   ]
  },
  {
   "cell_type": "code",
   "execution_count": 40,
   "id": "0bb4b0a1",
   "metadata": {},
   "outputs": [],
   "source": [
    "## As a good developer you should know where you can change the \n",
    "# value of a protected variable i.e\n",
    "# you should only change where sub class in present\n",
    "truck._doors = 5"
   ]
  },
  {
   "cell_type": "code",
   "execution_count": 41,
   "id": "2d3152c3",
   "metadata": {},
   "outputs": [
    {
     "data": {
      "text/plain": [
       "5"
      ]
     },
     "execution_count": 41,
     "metadata": {},
     "output_type": "execute_result"
    }
   ],
   "source": [
    "truck._doors"
   ]
  },
  {
   "cell_type": "code",
   "execution_count": 42,
   "id": "dd2ee43f",
   "metadata": {},
   "outputs": [],
   "source": [
    "# Private(it cannot be accessed from anywhere)\n",
    "# Here all the class variable and private\n",
    "# In order to make my variables protected all we have to do is \n",
    "# make the variables name start with '__'(double underscore)\n",
    "\n",
    "class Car:\n",
    "    def __init__(self,windows, doors, enginetype):\n",
    "        self.__windows = windows \n",
    "        self.__doors = doors \n",
    "        self.__enginetype = enginetype\n"
   ]
  },
  {
   "cell_type": "code",
   "execution_count": 43,
   "id": "bb5bb83a",
   "metadata": {},
   "outputs": [
    {
     "data": {
      "text/plain": [
       "['_Car__doors',\n",
       " '_Car__enginetype',\n",
       " '_Car__windows',\n",
       " '__class__',\n",
       " '__delattr__',\n",
       " '__dict__',\n",
       " '__dir__',\n",
       " '__doc__',\n",
       " '__eq__',\n",
       " '__format__',\n",
       " '__ge__',\n",
       " '__getattribute__',\n",
       " '__gt__',\n",
       " '__hash__',\n",
       " '__init__',\n",
       " '__init_subclass__',\n",
       " '__le__',\n",
       " '__lt__',\n",
       " '__module__',\n",
       " '__ne__',\n",
       " '__new__',\n",
       " '__reduce__',\n",
       " '__reduce_ex__',\n",
       " '__repr__',\n",
       " '__setattr__',\n",
       " '__sizeof__',\n",
       " '__str__',\n",
       " '__subclasshook__',\n",
       " '__weakref__']"
      ]
     },
     "execution_count": 43,
     "metadata": {},
     "output_type": "execute_result"
    }
   ],
   "source": [
    "audi = Car(4,4,'Diesel')\n",
    "dir(audi)"
   ]
  },
  {
   "cell_type": "code",
   "execution_count": null,
   "id": "ae3d4c28",
   "metadata": {},
   "outputs": [],
   "source": [
    "# You can see those variables are present at the top and are different\n",
    "# this is an indiaction this cannot be modified from outside the main class\n",
    "## we can always modify them, but this is an indicaiton to the developer thatit should not be modified outside"
   ]
  }
 ],
 "metadata": {
  "kernelspec": {
   "display_name": "Python 3",
   "language": "python",
   "name": "python3"
  },
  "language_info": {
   "codemirror_mode": {
    "name": "ipython",
    "version": 3
   },
   "file_extension": ".py",
   "mimetype": "text/x-python",
   "name": "python",
   "nbconvert_exporter": "python",
   "pygments_lexer": "ipython3",
   "version": "3.8.8"
  }
 },
 "nbformat": 4,
 "nbformat_minor": 5
}
