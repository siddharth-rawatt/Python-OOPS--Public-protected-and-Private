{
 "cells": [
  {
   "cell_type": "markdown",
   "id": "19cb8968",
   "metadata": {},
   "source": [
    "## Python OOPs - Inheritence"
   ]
  },
  {
   "cell_type": "code",
   "execution_count": 4,
   "id": "1808f1e9",
   "metadata": {},
   "outputs": [],
   "source": [
    "## All the class variables are public\n",
    "# Car Blueprint\n",
    "class Car():\n",
    "    def __init__(self, windows, doors, enginetype):\n",
    "        self.windows = windows\n",
    "        self.doors = doors\n",
    "        self.enginetype = enginetype\n",
    "    def drive(self):\n",
    "        print(\"The person drives the car\")\n",
    "        "
   ]
  },
  {
   "cell_type": "code",
   "execution_count": 5,
   "id": "a693a77b",
   "metadata": {},
   "outputs": [],
   "source": [
    "car = Car(4,5,'diesel')"
   ]
  },
  {
   "cell_type": "code",
   "execution_count": 6,
   "id": "4f605ff1",
   "metadata": {},
   "outputs": [
    {
     "name": "stdout",
     "output_type": "stream",
     "text": [
      "The person drives the car\n"
     ]
    }
   ],
   "source": [
    "car.drive()"
   ]
  },
  {
   "cell_type": "code",
   "execution_count": 7,
   "id": "20e839bc",
   "metadata": {},
   "outputs": [],
   "source": [
    "class audi(Car):\n",
    "    #we are imheriting all the properities of a car\n",
    "    def __init__(self,windows,doors,enginetype, enableai):\n",
    "        super().__init__(windows,doors,enginetype)\n",
    "        self.enableai = enableai\n",
    "    def selfdriving(self):\n",
    "        print(\"Audi Supports self driving\")"
   ]
  },
  {
   "cell_type": "code",
   "execution_count": 8,
   "id": "0b938d2b",
   "metadata": {},
   "outputs": [],
   "source": [
    "audiQ7 = audi(5,5,'diesel',True)"
   ]
  },
  {
   "cell_type": "code",
   "execution_count": 15,
   "id": "b7421ea9",
   "metadata": {},
   "outputs": [
    {
     "name": "stdout",
     "output_type": "stream",
     "text": [
      "Audi Supports self driving\n"
     ]
    }
   ],
   "source": [
    "audiQ7.selfdriving()"
   ]
  },
  {
   "cell_type": "code",
   "execution_count": null,
   "id": "52141271",
   "metadata": {},
   "outputs": [],
   "source": []
  }
 ],
 "metadata": {
  "kernelspec": {
   "display_name": "Python 3",
   "language": "python",
   "name": "python3"
  },
  "language_info": {
   "codemirror_mode": {
    "name": "ipython",
    "version": 3
   },
   "file_extension": ".py",
   "mimetype": "text/x-python",
   "name": "python",
   "nbconvert_exporter": "python",
   "pygments_lexer": "ipython3",
   "version": "3.8.8"
  }
 },
 "nbformat": 4,
 "nbformat_minor": 5
}
